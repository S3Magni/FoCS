{
 "cells": [
  {
   "cell_type": "code",
   "execution_count": 5,
   "metadata": {
    "collapsed": true
   },
   "outputs": [],
   "source": [
    "import pandas as pd\n",
    "import numpy as np\n",
    "import re"
   ]
  },
  {
   "cell_type": "code",
   "execution_count": 107,
   "metadata": {
    "collapsed": false
   },
   "outputs": [
    {
     "data": {
      "text/html": [
       "<div>\n",
       "<table border=\"1\" class=\"dataframe\">\n",
       "  <thead>\n",
       "    <tr style=\"text-align: right;\">\n",
       "      <th></th>\n",
       "      <th>loan_id</th>\n",
       "      <th>lenders</th>\n",
       "    </tr>\n",
       "  </thead>\n",
       "  <tbody>\n",
       "    <tr>\n",
       "      <th>1387427</th>\n",
       "      <td>678999</td>\n",
       "      <td>michael43411218, carol5987, gooddogg1, chris41...</td>\n",
       "    </tr>\n",
       "    <tr>\n",
       "      <th>1387428</th>\n",
       "      <td>1207353</td>\n",
       "      <td>rjhoward1986, jeffrey6870, trolltech4460, elys...</td>\n",
       "    </tr>\n",
       "    <tr>\n",
       "      <th>1387429</th>\n",
       "      <td>1206220</td>\n",
       "      <td>vicky7746, gooddogg1, fairspirit, craig9729960...</td>\n",
       "    </tr>\n",
       "    <tr>\n",
       "      <th>1387430</th>\n",
       "      <td>1206425</td>\n",
       "      <td>rich6705, sergiiy9766, angela7509, barbara5610...</td>\n",
       "    </tr>\n",
       "    <tr>\n",
       "      <th>1387431</th>\n",
       "      <td>1206486</td>\n",
       "      <td>alan5175, amy38101311</td>\n",
       "    </tr>\n",
       "  </tbody>\n",
       "</table>\n",
       "</div>"
      ],
      "text/plain": [
       "         loan_id                                            lenders\n",
       "1387427   678999  michael43411218, carol5987, gooddogg1, chris41...\n",
       "1387428  1207353  rjhoward1986, jeffrey6870, trolltech4460, elys...\n",
       "1387429  1206220  vicky7746, gooddogg1, fairspirit, craig9729960...\n",
       "1387430  1206425  rich6705, sergiiy9766, angela7509, barbara5610...\n",
       "1387431  1206486                              alan5175, amy38101311"
      ]
     },
     "execution_count": 107,
     "metadata": {},
     "output_type": "execute_result"
    }
   ],
   "source": [
    "loans_lenders=pd.read_csv(\"C:\\\\Users\\\\Alessio\\\\Desktop\\\\Universita\\\\Magistrale\\\\Primo anno\\\\Foundations of computer science\\\\Progetto\\\\additional-kiva-snapshot\\\\loans_lenders.csv\")"
   ]
  },
  {
   "cell_type": "code",
   "execution_count": null,
   "metadata": {
    "collapsed": true
   },
   "outputs": [],
   "source": [
    "loans_lenders.head()\n",
    "loans_lenders.tail()"
   ]
  },
  {
   "cell_type": "code",
   "execution_count": null,
   "metadata": {
    "collapsed": false
   },
   "outputs": [],
   "source": []
  },
  {
   "cell_type": "code",
   "execution_count": 122,
   "metadata": {
    "collapsed": false
   },
   "outputs": [
    {
     "name": "stdout",
     "output_type": "stream",
     "text": [
      "46.1949999332\n"
     ]
    },
    {
     "data": {
      "text/html": [
       "<div>\n",
       "<table border=\"1\" class=\"dataframe\">\n",
       "  <thead>\n",
       "    <tr style=\"text-align: right;\">\n",
       "      <th></th>\n",
       "      <th>loan_id</th>\n",
       "      <th>lenders</th>\n",
       "    </tr>\n",
       "  </thead>\n",
       "  <tbody>\n",
       "    <tr>\n",
       "      <th>0</th>\n",
       "      <td>483693</td>\n",
       "      <td>muc888</td>\n",
       "    </tr>\n",
       "    <tr>\n",
       "      <th>1</th>\n",
       "      <td>483693</td>\n",
       "      <td>sam4326</td>\n",
       "    </tr>\n",
       "    <tr>\n",
       "      <th>2</th>\n",
       "      <td>483693</td>\n",
       "      <td>camaran3922</td>\n",
       "    </tr>\n",
       "    <tr>\n",
       "      <th>3</th>\n",
       "      <td>483693</td>\n",
       "      <td>lachheb1865</td>\n",
       "    </tr>\n",
       "    <tr>\n",
       "      <th>4</th>\n",
       "      <td>483693</td>\n",
       "      <td>rebecca3499</td>\n",
       "    </tr>\n",
       "  </tbody>\n",
       "</table>\n",
       "</div>"
      ],
      "text/plain": [
       "   loan_id      lenders\n",
       "0   483693       muc888\n",
       "1   483693      sam4326\n",
       "2   483693  camaran3922\n",
       "3   483693  lachheb1865\n",
       "4   483693  rebecca3499"
      ]
     },
     "execution_count": 122,
     "metadata": {},
     "output_type": "execute_result"
    }
   ],
   "source": [
    "import time\n",
    "\n",
    "start = time.time()\n",
    "liste=[]\n",
    "for i in range (0,10000):\n",
    "    liste.append(loans_lenders.loc[i,\"lenders\"].split(\", \"))\n",
    "data = []\n",
    "for i in range (0,10000):\n",
    "    for j in range(len(liste[i])):\n",
    "        data.append([loans_lenders.loc[i,\"loan_id\"], liste[i][j]])\n",
    "\n",
    "\n",
    "df = pd.DataFrame(data, columns=[\"loan_id\", \"lenders\"])\n",
    "\n",
    "end = time.time()\n",
    "print(end - start)\n",
    "\n",
    "\n"
   ]
  },
  {
   "cell_type": "code",
   "execution_count": 136,
   "metadata": {
    "collapsed": false
   },
   "outputs": [
    {
     "name": "stderr",
     "output_type": "stream",
     "text": [
      "100%|██████████| 1387432/1387432 [1:37:32<00:00, 237.09it/s]  \n"
     ]
    }
   ],
   "source": [
    "import tqdm\n",
    "import time\n",
    "liste = []\n",
    "data = []\n",
    "for i in tqdm.tqdm(range(len(loans_lenders))):\n",
    "    liste.append(loans_lenders.loc[i,\"lenders\"].split(\", \"))\n",
    "    for j in range(len(liste[i])):\n",
    "        data.append([loans_lenders.loc[i,\"loan_id\"], liste[i][j]])\n",
    "        \n",
    "df = pd.DataFrame(data, columns=[\"loan_id\", \"lenders\"])\n",
    "\n"
   ]
  },
  {
   "cell_type": "code",
   "execution_count": null,
   "metadata": {
    "collapsed": false
   },
   "outputs": [],
   "source": [
    "df.head()"
   ]
  },
  {
   "cell_type": "code",
   "execution_count": null,
   "metadata": {
    "collapsed": false
   },
   "outputs": [],
   "source": []
  },
  {
   "cell_type": "code",
   "execution_count": null,
   "metadata": {
    "collapsed": false
   },
   "outputs": [],
   "source": []
  }
 ],
 "metadata": {
  "kernelspec": {
   "display_name": "Python 2",
   "language": "python",
   "name": "python2"
  },
  "language_info": {
   "codemirror_mode": {
    "name": "ipython",
    "version": 2
   },
   "file_extension": ".py",
   "mimetype": "text/x-python",
   "name": "python",
   "nbconvert_exporter": "python",
   "pygments_lexer": "ipython2",
   "version": "2.7.13"
  }
 },
 "nbformat": 4,
 "nbformat_minor": 2
}
