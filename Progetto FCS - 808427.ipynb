{
 "cells": [
  {
   "cell_type": "code",
   "execution_count": 21,
   "metadata": {},
   "outputs": [],
   "source": [
    "import pandas\n",
    "import numpy\n",
    "import tqdm\n",
    "import datetime, time\n",
    "from itertools import chain\n",
    "import collections, functools, operator\n",
    "import warnings\n",
    "\n",
    "\n",
    "warnings.filterwarnings('ignore')\n",
    "\n",
    "path = \"C:/Users/Lenovo/Desktop/FCS/\"\n",
    "n = 10000\n",
    "n = 0\n",
    "\n",
    "class Main :\n",
    "    def reader(self, fname, nrows, com='read_csv', sep=','):\n",
    "        self.fname = fname\n",
    "        self.nrow = nrows\n",
    "        x = {}\n",
    "        if nrows > 0:\n",
    "            exe = \"import pandas ; f = pandas.\" + com + \"('\" + fname + \"',\" + \"sep='\" + sep + \"', nrows=\" + str(nrows) + \")\"\n",
    "        else:\n",
    "            exe = \"import pandas ; f = pandas.\" + com + \"('\" + fname + \"',\" + \"sep='\" + sep + \"')\"\n",
    "        exec(exe, x)\n",
    "        return x['f']\n",
    "\n",
    "\n",
    "Mn = Main()"
   ]
  },
  {
   "cell_type": "code",
   "execution_count": 3,
   "metadata": {},
   "outputs": [
    {
     "name": "stdout",
     "output_type": "stream",
     "text": [
      "   loan_id      lenders\n",
      "0   483693       muc888\n",
      "0   483693      sam4326\n",
      "0   483693  camaran3922\n",
      "0   483693  lachheb1865\n",
      "0   483693  rebecca3499\n"
     ]
    }
   ],
   "source": [
    "### POUNTO 1\n",
    "fname_ll = path + \"loans_lenders.csv\"\n",
    "loans_lender = Mn.reader(fname=fname_ll, nrows=n); del fname_ll\n",
    "loans_lender_N = pandas.DataFrame({\"loan_id\": numpy.repeat(loans_lender[\"loan_id\"],\n",
    "                                                           loans_lender[\"lenders\"].str.split(',').map(len)),\n",
    "                                   \"lenders\": list(chain.from_iterable(loans_lender[\"lenders\"].str.split(', ')))})\n",
    "print(loans_lender_N.head())"
   ]
  },
  {
   "cell_type": "code",
   "execution_count": 22,
   "metadata": {},
   "outputs": [
    {
     "name": "stdout",
     "output_type": "stream",
     "text": [
      "   loan_id      lenders  loans_duration\n",
      "0   483693       muc888            57.0\n",
      "1   483693      sam4326            57.0\n",
      "2   483693  camaran3922            57.0\n",
      "3   483693  lachheb1865            57.0\n",
      "4   483693  rebecca3499            57.0\n"
     ]
    }
   ],
   "source": [
    "### PUNTO 2\n",
    "fname_l = path + \"loans.csv\"\n",
    "loans_ = Mn.reader(fname=fname_l, nrows=n); del fname_l\n",
    "\n",
    "dur = loans_.iloc[:, [0, 19, 20]]\n",
    "dur[\"planned_expiration_time\"] = pandas.to_datetime(dur[\"planned_expiration_time\"])\n",
    "dur[\"disburse_time\"] = pandas.to_datetime(dur[\"disburse_time\"])\n",
    "\n",
    "dur.insert(3, \"loans_duration\", (dur.iloc[:, 1]-dur.iloc[:, 2]).astype('timedelta64[D]'), True)\n",
    "dur[\"loans_duration\"].apply(lambda i: int(i) if pandas.notnull(i) else i)\n",
    "\n",
    "loans_lender_ND = pandas.merge(loans_lender_N, dur.iloc[:, [0, 3]], on=\"loan_id\"); del dur\n",
    "print(loans_lender_ND.head())"
   ]
  },
  {
   "cell_type": "code",
   "execution_count": 8,
   "metadata": {
    "scrolled": true
   },
   "outputs": [
    {
     "name": "stdout",
     "output_type": "stream",
     "text": [
      "['muc888', 'sam4326', 'camaran3922', 'lachheb1865', 'rebecca3499', 'karlheinz4543', 'jerrydb', 'paula8951', 'gmct']\n"
     ]
    }
   ],
   "source": [
    "### PUNTO 3\n",
    "m = pandas.merge(loans_lender_N, loans_[[\"loan_id\", \"repayment_interval\"]][loans_[\"repayment_interval\"] != \"bullet\"],\n",
    "                 on=\"loan_id\")\n",
    "list_of_lenders_that_have_funded_at_least_twice = list(dict.fromkeys(m[\"lenders\"])); del m\n",
    "print(list_of_lenders_that_have_funded_at_least_twice[0:9])"
   ]
  },
  {
   "cell_type": "code",
   "execution_count": 10,
   "metadata": {},
   "outputs": [
    {
     "name": "stderr",
     "output_type": "stream",
     "text": [
      "100%|█████████████████████████████████████████████████████████████████████| 1419607/1419607 [00:46<00:00, 30305.85it/s]\n"
     ]
    },
    {
     "name": "stdout",
     "output_type": "stream",
     "text": [
      "             loans\n",
      "Togo          2005\n",
      "Cambodia       493\n",
      "Kenya        10570\n",
      "Rwanda         577\n",
      "El Salvador   2058\n",
      "Afghanistan    653\n",
      "Tajikistan     311\n",
      "Nicaragua     1140\n",
      "Peru          2062\n",
      "Palestine      112\n"
     ]
    }
   ],
   "source": [
    "### PUNTO 4\n",
    "list_country = []\n",
    "\n",
    "list_pos = [] # per punto 5\n",
    "\n",
    "for el in tqdm.tqdm(range(0, len(loans_.index))):\n",
    "    if type(loans_[\"town_name\"][el]) == float and type(loans_[\"borrower_genders\"][el]) == float:\n",
    "        list_country.append(loans_[\"country_name\"][el])\n",
    "        list_pos.append(el)\n",
    "del el\n",
    "count_country = pandas.DataFrame.from_dict({i: list_country.count(i) for i in list_country},\n",
    "                                           orient=\"index\", columns=[\"loans\"])\n",
    "print(count_country.iloc[0:10,])"
   ]
  },
  {
   "cell_type": "code",
   "execution_count": 11,
   "metadata": {},
   "outputs": [
    {
     "name": "stderr",
     "output_type": "stream",
     "text": [
      "100%|█████████████████████████████████████████████████████████████████████████| 43251/43251 [00:03<00:00, 12552.45it/s]\n"
     ]
    },
    {
     "name": "stdout",
     "output_type": "stream",
     "text": [
      "                 loans\n",
      "Togo         1584875.0\n",
      "Cambodia      346075.0\n",
      "Kenya        4957750.0\n",
      "Rwanda        940325.0\n",
      "El Salvador  1241150.0\n",
      "Afghanistan   624450.0\n",
      "Tajikistan    373050.0\n",
      "Nicaragua     717550.0\n",
      "Peru         1462425.0\n",
      "Palestine     204775.0\n"
     ]
    }
   ],
   "source": [
    "### PUNTO 5\n",
    "country_loan_d = {i: 0 for i in list_country}\n",
    "for el in tqdm.tqdm(list_pos):\n",
    "    if loans_[\"country_name\"][el] in list_country:\n",
    "        country_loan_d[loans_[\"country_name\"][el]] += loans_[\"loan_amount\"][el]\n",
    "del el\n",
    "country_loan = pandas.DataFrame.from_dict(country_loan_d, orient=\"index\", columns=[\"loans\"])\n",
    "print(country_loan.iloc[0:10,])"
   ]
  },
  {
   "cell_type": "code",
   "execution_count": 12,
   "metadata": {},
   "outputs": [
    {
     "name": "stdout",
     "output_type": "stream",
     "text": [
      "                loans\n",
      "Togo         0.000023\n",
      "Cambodia     0.000010\n",
      "Kenya        0.000008\n",
      "Rwanda       0.000003\n",
      "El Salvador  0.000088\n",
      "Afghanistan  0.000185\n",
      "Tajikistan   0.000038\n",
      "Nicaragua    0.000008\n",
      "Peru         0.000042\n",
      "Palestine    0.000088\n"
     ]
    }
   ],
   "source": [
    "### PUNTO 6\n",
    "total = loans_[\"loan_amount\"].sum(axis=0, skipna=True)\n",
    "l = list(country_loan_d.values())/total; l = l.tolist()\n",
    "z = zip(list_country, l*100)\n",
    "country_loan_prop = pandas.DataFrame.from_dict(dict(z), orient=\"index\", columns=[\"loans\"])\n",
    "del l; del z; del list_country; del country_loan_d\n",
    "print(country_loan_prop.iloc[0:10,])"
   ]
  },
  {
   "cell_type": "code",
   "execution_count": 13,
   "metadata": {},
   "outputs": [
    {
     "name": "stderr",
     "output_type": "stream",
     "text": [
      "100%|█████████████████████████████████████████████████████████████████████| 1419607/1419607 [01:27<00:00, 16315.06it/s]\n",
      "100%|██████████████████████████████████████████████████████████████████████████| 43251/43251 [00:07<00:00, 5768.91it/s]\n"
     ]
    },
    {
     "name": "stdout",
     "output_type": "stream",
     "text": [
      "                                            loans_%\n",
      "Togo 2012                              1.504100e-04\n",
      "Cambodia 2015                          9.431309e-05\n",
      "Cambodia 2016                          4.232133e-06\n",
      "Kenya 2014                             1.005132e-05\n",
      "Rwanda 2016                            1.779824e-04\n",
      "Kenya 2016                             1.629371e-06\n",
      "El Salvador 2015                       4.204624e-05\n",
      "El Salvador 2012                       1.067132e-04\n",
      "Afghanistan 2010                       5.685871e-05\n",
      "Tajikistan 2014                        4.924087e-05\n",
      "Nicaragua 2015                         2.108660e-04\n",
      "Kenya 2015                             2.539280e-05\n",
      "Peru 2012                              6.348200e-07\n",
      "Palestine 2013                         1.239169e-04\n",
      "Sierra Leone 2012                      3.605777e-05\n",
      "Mexico 2014                            9.649264e-06\n",
      "Philippines 2016                       2.835529e-06\n",
      "Colombia 2012                          5.178015e-05\n",
      "Lao People's Democratic Republic 2015  4.450088e-05\n",
      "Senegal 2010                           2.589431e-04\n"
     ]
    }
   ],
   "source": [
    "### PUNTO 7\n",
    "list_country_Y = []\n",
    "\n",
    "for el in tqdm.tqdm(range(0, len(loans_.index))):\n",
    "    if type(loans_[\"disburse_time\"][el]) != float:\n",
    "        if type(loans_[\"town_name\"][el]) == float and type(loans_[\"borrower_genders\"][el]) == float:\n",
    "            list_country_Y.append(loans_[\"country_name\"][el] + \" \" + loans_[\"disburse_time\"][el][0:4])\n",
    "del el\n",
    "count_country_Y = pandas.DataFrame.from_dict({i: list_country_Y.count(i) for i in list_country_Y}, orient=\"index\",\n",
    "                                             columns=[\"loans\"])\n",
    "\n",
    "country_loan_Y_d = {i: 0 for i in list_country_Y}\n",
    "for el in tqdm.tqdm(list_pos):\n",
    "    if type(loans_[\"disburse_time\"][el]) != float:\n",
    "        if loans_[\"country_name\"][el] + \" \" + loans_[\"disburse_time\"][el][0:4] in list_country_Y:\n",
    "            country_loan_Y_d[loans_[\"country_name\"][el] +\" \"+ loans_[\"disburse_time\"][el][0:4]] += loans_[\"loan_amount\"][el]\n",
    "del el\n",
    "country_loan_Y = pandas.DataFrame.from_dict(country_loan_Y_d, orient=\"index\", columns=[\"loans\"])\n",
    "\n",
    "l = list(country_loan_Y_d.values())/total; l = l.tolist(); del total\n",
    "z = zip(list_country_Y, l)\n",
    "country_loan_prop_Y = pandas.DataFrame.from_dict(dict(z), orient=\"index\", columns=[\"loans_%\"])\n",
    "del l; del z; del list_country_Y; del country_loan_Y_d\n",
    "print(country_loan_prop_Y.iloc[0:20,])"
   ]
  },
  {
   "cell_type": "code",
   "execution_count": 15,
   "metadata": {},
   "outputs": [
    {
     "name": "stdout",
     "output_type": "stream",
     "text": [
      "          lenders  loan_amount_part\n",
      "0             000       4439.157794\n",
      "1           00000       3377.806092\n",
      "2            0002       2657.022974\n",
      "3        00mike00         52.631579\n",
      "4  0101craign0101       7705.846364\n",
      "5         0132575         94.444444\n",
      "6         0154884        107.534613\n",
      "7         0161130         51.602328\n",
      "8         0169713        124.829008\n",
      "9         0185429         44.791667\n"
     ]
    }
   ],
   "source": [
    "### PUNTO 8\n",
    "m = pandas.merge(loans_lender, loans_[[\"loan_id\", \"loan_amount\"]], on=\"loan_id\")\n",
    "m1 = pandas.DataFrame({\"loan_id\": m[\"loan_id\"].astype(int),\n",
    "                       \"loan_amount_part\": m[\"loan_amount\"]/loans_lender[\"lenders\"].str.split(',').map(len)}); del m\n",
    "m2 = pandas.merge(loans_lender_N, m1, on=\"loan_id\"); del m1\n",
    "overall_amount_of_money_lent_per_lender = m2[[\"lenders\", \"loan_amount_part\"]].groupby(\n",
    "    [\"lenders\"])[\"loan_amount_part\"].sum().reset_index(); del m2\n",
    "print(overall_amount_of_money_lent_per_lender.iloc[0:10,])"
   ]
  },
  {
   "cell_type": "code",
   "execution_count": 23,
   "metadata": {},
   "outputs": [
    {
     "name": "stderr",
     "output_type": "stream",
     "text": [
      "100%|█████████████████████████████████████████████████████████████████████| 1383799/1383799 [00:59<00:00, 23399.56it/s]\n"
     ]
    },
    {
     "name": "stdout",
     "output_type": "stream",
     "text": [
      "  country_code          diff\n",
      "0           AF  7.111683e+04\n",
      "1           AL -3.382695e+04\n",
      "2           AM  1.393695e+05\n",
      "3           AZ -4.078453e+05\n",
      "4           BA  2.442948e+05\n",
      "5           BF  1.164741e+04\n",
      "6           BG  1.263782e+06\n",
      "7           BI -3.870660e+05\n",
      "8           BJ -3.848587e+05\n",
      "9           BO -5.842768e+05\n"
     ]
    }
   ],
   "source": [
    "### PUNTO 9\n",
    "fname_landers = path + \"lenders.csv\"\n",
    "loans_lenders_dt = Mn.reader(fname=fname_landers, nrows=n); del fname_landers\n",
    "\n",
    "lenders_st = pandas.DataFrame({\"lenders\": loans_lenders_dt[\"permanent_name\"],\n",
    "                               \"country_code\": loans_lenders_dt[\"country_code\"]})\n",
    "diz = loans_lenders_dt.groupby(\"country_code\").size()\n",
    "proporzioni_debito = pandas.DataFrame({\"prop\":diz/sum(diz)}); del diz\n",
    "m = pandas.merge(overall_amount_of_money_lent_per_lender, lenders_st, on=\"lenders\")\n",
    "df1 = pandas.DataFrame(m.groupby(\"country_code\").sum())\n",
    "df1 = df1.rename(columns={\"loan_amount_part\": \"credits\"})\n",
    "count = 0\n",
    "for el in tqdm.tqdm(range(0, len(m.index))):\n",
    "    if type(m[\"country_code\"][el]) == float:\n",
    "        count += m[\"loan_amount_part\"][el]\n",
    "del m\n",
    "df2 = pandas.DataFrame({\"credits\": count*proporzioni_debito[\"prop\"]})\n",
    "del count; del proporzioni_debito\n",
    "\n",
    "df = df2.add(df1, fill_value=0)\n",
    "del df1; del df2\n",
    "df[\"country_code\"] = df.index\n",
    "\n",
    "fname_cs = path + \"country_stats.csv\"\n",
    "loans_country_stat = Mn.reader(fname=fname_cs, nrows=n); del fname_cs\n",
    "\n",
    "cl = country_loan\n",
    "cl[\"country_name\"] = cl.index\n",
    "m = pandas.merge(cl, loans_country_stat[[\"country_code\", \"country_name\", \"population_below_poverty_line\", \"population\"]],\n",
    "                 on=\"country_name\"); del cl\n",
    "m = m.drop(columns=[\"country_name\"])\n",
    "\n",
    "difference_stp = pandas.merge(df, m, on=\"country_code\")\n",
    "del m; del df\n",
    "difference_stp[\"diff\"] = difference_stp[\"credits\"]-difference_stp[\"loans\"]\n",
    "difference = difference_stp[[\"country_code\", \"diff\"]]\n",
    "print(difference.iloc[0:10,])"
   ]
  },
  {
   "cell_type": "code",
   "execution_count": 17,
   "metadata": {},
   "outputs": [
    {
     "name": "stdout",
     "output_type": "stream",
     "text": [
      "   country_code       LOP\n",
      "71           US  8.840570\n",
      "28           IL  0.640198\n",
      "19           CR  0.594035\n",
      "53           PR  0.519123\n",
      "6            BG  0.178385\n",
      "49           PA  0.129311\n",
      "13           BZ  0.125643\n",
      "15           CL  0.086769\n",
      "64           TH  0.073441\n",
      "4            BA  0.069659\n"
     ]
    }
   ],
   "source": [
    "### PUNTO 10\n",
    "difference_stp[\"LOP\"] = difference_stp[\"diff\"]/difference_stp[\"population\"]\n",
    "difference_on_population = difference_stp[[\"country_code\", \"LOP\"]].sort_values(by=['LOP'], ascending=False)\n",
    "print(difference_on_population.iloc[0:10,])"
   ]
  },
  {
   "cell_type": "code",
   "execution_count": 19,
   "metadata": {},
   "outputs": [
    {
     "name": "stdout",
     "output_type": "stream",
     "text": [
      "   country_code       LOP\n",
      "71           US  8.840570\n",
      "28           IL  0.640198\n",
      "19           CR  0.594035\n",
      "6            BG  0.178385\n",
      "49           PA  0.129311\n",
      "15           CL  0.086769\n",
      "64           TH  0.073441\n",
      "4            BA  0.069659\n",
      "75           ZA  0.059229\n",
      "10           BR  0.056141\n"
     ]
    }
   ],
   "source": [
    "### PUNTO 11\n",
    "difference_on_population_without = difference_stp[[\"country_code\", \"LOP\"]][\n",
    "    difference_stp[\"population_below_poverty_line\"] < 30].sort_values(by=['LOP'], ascending=False)\n",
    "print(difference_on_population_without.iloc[0:10,])"
   ]
  },
  {
   "cell_type": "code",
   "execution_count": 25,
   "metadata": {},
   "outputs": [
    {
     "name": "stderr",
     "output_type": "stream",
     "text": [
      "100%|█████████████████████████████████████████████████████████████████████████| 150611/150611 [19:05<00:00, 131.52it/s]\n"
     ]
    },
    {
     "name": "stdout",
     "output_type": "stream",
     "text": [
      "year\n",
      "2011.0    6.299119e+05\n",
      "2012.0    1.132750e+08\n",
      "2013.0    1.249371e+08\n",
      "2014.0    1.531511e+08\n",
      "2015.0    1.597599e+08\n",
      "2016.0    1.589876e+08\n",
      "2017.0    1.718619e+08\n",
      "2018.0    5.705071e+06\n",
      "Name: loan, dtype: float64\n"
     ]
    }
   ],
   "source": [
    "### PUNTO 12\n",
    "ldd = loans_[[\"disburse_time\", \"planned_expiration_time\", \"loan_amount\"]]\n",
    "ldd = ldd.dropna()\n",
    "for el in [\"disburse_time\", \"planned_expiration_time\"]:\n",
    "    ldd[el] = ldd[el].astype(\"datetime64[ns]\")\n",
    "del el\n",
    "\n",
    "ldd[\"yE\"] = ldd[\"planned_expiration_time\"].apply(lambda x: x.year)\n",
    "ldd[\"yB\"] = ldd[\"disburse_time\"].apply(lambda x: x.year)\n",
    "ldd[\"yd\"] = ldd[\"yE\"] - ldd[\"yB\"]\n",
    "ldd = ldd.drop(columns=[\"yE\", \"yB\"])\n",
    "\n",
    "ldd_1 = ldd[[\"disburse_time\", \"loan_amount\"]][ldd[\"yd\"] == 0]\n",
    "ldd_1[\"year\"] = ldd[\"disburse_time\"].apply(lambda x: x.year)\n",
    "ldd_1 = ldd_1.drop(columns=[\"disburse_time\"])\n",
    "df1 = pandas.DataFrame(ldd_1.groupby(\"year\").sum())\n",
    "df1 = df1.rename(columns={\"loan_amount\": \"loan\"})\n",
    "df1[\"year\"] = df1.index\n",
    "del ldd_1\n",
    "\n",
    "ldd_n = ldd[[\"disburse_time\", \"planned_expiration_time\", \"loan_amount\", \"yd\"]][ldd[\"yd\"] > 0]\n",
    "ldd_n = ldd_n.reset_index(drop=True)\n",
    "df2 = pandas.DataFrame(columns=[\"year\", \"loan\"])\n",
    "for i in tqdm.tqdm(range(0, len(ldd_n.index))):\n",
    "    df2_c = pandas.DataFrame(columns=[\"year\", \"loan_T\", \"days\"])\n",
    "    ln = ldd_n[\"yd\"][i]\n",
    "    ln = ln.astype(\"int\")\n",
    "    for j in range(0, ln+1):\n",
    "        year = ldd_n[\"disburse_time\"][i].year + j\n",
    "        if j == 0:\n",
    "            days = datetime.datetime(ldd_n[\"disburse_time\"][i].year+1, 1, 1) - ldd_n[\"disburse_time\"][i]\n",
    "            days = days.days\n",
    "        elif j == ln:\n",
    "            days = ldd_n[\"planned_expiration_time\"][i] - datetime.datetime(ldd_n[\"planned_expiration_time\"][i].year-1,\n",
    "                                                                           12, 31)\n",
    "            days = days.days\n",
    "        else:\n",
    "            days = 365\n",
    "        df2_c = df2_c.append({\"year\": year, \"loan_T\": ldd_n[\"loan_amount\"][i], \"days\": days}, ignore_index=True)\n",
    "        df2_c[\"loan\"] = df2_c[\"loan_T\"]*df2_c[\"days\"]/sum(df2_c[\"days\"])\n",
    "    df2_c = df2_c.drop(columns=[\"days\", \"loan_T\"])\n",
    "    df2 = pandas.concat([df2, df2_c], ignore_index=True)\n",
    "del df2_c; del year; del ln; del ldd_n; del i; del j; del days\n",
    "\n",
    "m = df1.append(df2, ignore_index=True)\n",
    "del df1; del df2\n",
    "\n",
    "total_amount_of_loans_Y = pandas.DataFrame(m.groupby(\"year\").sum())\n",
    "total_amount_of_loans_Y[\"year\"] = total_amount_of_loans_Y.index\n",
    "print(total_amount_of_loans_Y.iloc[:,0])"
   ]
  }
 ],
 "metadata": {
  "kernelspec": {
   "display_name": "Python 3",
   "language": "python",
   "name": "python3"
  },
  "language_info": {
   "codemirror_mode": {
    "name": "ipython",
    "version": 3
   },
   "file_extension": ".py",
   "mimetype": "text/x-python",
   "name": "python",
   "nbconvert_exporter": "python",
   "pygments_lexer": "ipython3",
   "version": "3.7.0"
  }
 },
 "nbformat": 4,
 "nbformat_minor": 2
}
